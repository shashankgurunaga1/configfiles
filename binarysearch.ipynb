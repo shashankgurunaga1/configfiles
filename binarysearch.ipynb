{
 "cells": [
  {
   "cell_type": "code",
   "execution_count": 4,
   "metadata": {},
   "outputs": [
    {
     "name": "stdout",
     "output_type": "stream",
     "text": [
      "Element found at index value: 4 Position: 5\n"
     ]
    }
   ],
   "source": [
    "def BinarySearch(list1,item):\n",
    "    \n",
    "    u=len(list1)-1# last value in the list with highest index value\n",
    "    begin=0\n",
    "    while(begin<=u):\n",
    "        mid=(begin+u)//2\n",
    "        if(item==list1[mid]):\n",
    "            return mid \n",
    "        elif(item>list1[mid]):\n",
    "            begin=mid+1\n",
    "        else:\n",
    "            u=mid-1\n",
    "    else:\n",
    "        return False\n",
    "list1=[1,2,3,4,5,6,7,8,9,10]\n",
    "item=int(input(\"Enter the number you want to SEARCH!!!\"))\n",
    "index=BinarySearch(list1,item)\n",
    "if(index):\n",
    "    print(\"Element found at index value:\",index,\"Position:\",index+1)\n",
    "else:\n",
    "    print(\"Sorry! Element Not Found\")"
   ]
  },
  {
   "cell_type": "code",
   "execution_count": null,
   "metadata": {},
   "outputs": [],
   "source": []
  },
  {
   "attachments": {},
   "cell_type": "markdown",
   "metadata": {},
   "source": [
    "## Hi!! how are you doing\n",
    "<b>Wassup<b>"
   ]
  }
 ],
 "metadata": {
  "kernelspec": {
   "display_name": "Python 3",
   "language": "python",
   "name": "python3"
  },
  "language_info": {
   "codemirror_mode": {
    "name": "ipython",
    "version": 3
   },
   "file_extension": ".py",
   "mimetype": "text/x-python",
   "name": "python",
   "nbconvert_exporter": "python",
   "pygments_lexer": "ipython3",
   "version": "3.9.13"
  },
  "orig_nbformat": 4
 },
 "nbformat": 4,
 "nbformat_minor": 2
}
