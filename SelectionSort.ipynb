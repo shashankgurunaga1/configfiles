{
 "cells": [
  {
   "cell_type": "code",
   "execution_count": 1,
   "metadata": {},
   "outputs": [
    {
     "name": "stdout",
     "output_type": "stream",
     "text": [
      "[1, 6, 8, 14, 15, 17, 27, 45]\n"
     ]
    }
   ],
   "source": [
    "#Selection Sort program\n",
    "def SelectionSort(arr,size):\n",
    "    for i in range(size):\n",
    "        min1=i\n",
    "        for j in range(i+1,size):\n",
    "            if (arr[j]<arr[min1]):\n",
    "                min1=j\n",
    "        (arr[i],arr[min1])=(arr[min1],arr[i])\n",
    "    return arr\n",
    "arr=[1,8,6,15,14,45,27,17]\n",
    "size=len(arr)\n",
    "list3=SelectionSort(arr,size)\n",
    "print(list3)"
   ]
  }
 ],
 "metadata": {
  "kernelspec": {
   "display_name": "Python 3",
   "language": "python",
   "name": "python3"
  },
  "language_info": {
   "codemirror_mode": {
    "name": "ipython",
    "version": 3
   },
   "file_extension": ".py",
   "mimetype": "text/x-python",
   "name": "python",
   "nbconvert_exporter": "python",
   "pygments_lexer": "ipython3",
   "version": "3.9.13"
  },
  "orig_nbformat": 4
 },
 "nbformat": 4,
 "nbformat_minor": 2
}
